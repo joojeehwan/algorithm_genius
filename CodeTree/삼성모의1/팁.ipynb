{
 "cells": [
  {
   "cell_type": "markdown",
   "source": [
    "# 중력 함수 (실행 X)"
   ],
   "metadata": {
    "collapsed": false
   }
  },
  {
   "cell_type": "code",
   "execution_count": null,
   "outputs": [],
   "source": [
    "def gravity():\n",
    "    # 변경된 값을 기존 배열에 복사붙여넣기 위해 만듬\n",
    "    for i in range(n + 1):\n",
    "        for j in range(1, MAX_WIDTH + 1):\n",
    "            temp[i][j] = 0\n",
    "\n",
    "    for j in range(1, MAX_WIDTH + 1):\n",
    "        # 기존 배열은 계속 위로 올라가면서\n",
    "        # 새로운 배열에는 index값을 따로 두어서\n",
    "        # 기존 배열에 값이 있는 경우에만 넣고 index 변경\n",
    "        last_idx = n\n",
    "        for i in range(n, -1, -1):\n",
    "            if bucket[i][j]:\n",
    "                temp[last_idx][j] = bucket[i][j]\n",
    "                last_idx -= 1\n",
    "\n",
    "    # 다시 temp 배열을 옮겨줍니다.\n",
    "    for i in range(n + 1):\n",
    "        for j in range(1, MAX_WIDTH + 1):\n",
    "            bucket[i][j] = temp[i][j]"
   ],
   "metadata": {
    "collapsed": false,
    "pycharm": {
     "name": "#%%\n"
    }
   }
  },
  {
   "cell_type": "markdown",
   "source": [
    "\n",
    "# 범위 확인 함수 (실행 X)"
   ],
   "metadata": {
    "collapsed": false
   }
  },
  {
   "cell_type": "code",
   "execution_count": null,
   "outputs": [],
   "source": [
    "# 범위 확인 함수\n",
    "def in_range(x, y):\n",
    "    return 0 <= x and x <= n and 1 <= y and y <= MAX_WIDTH"
   ],
   "metadata": {
    "collapsed": false,
    "pycharm": {
     "name": "#%%\n"
    }
   }
  },
  {
   "cell_type": "markdown",
   "source": [
    "\n",
    "#  4개의 경우에 대한 재귀 함수 (실행 X)"
   ],
   "metadata": {
    "collapsed": false
   }
  },
  {
   "cell_type": "code",
   "execution_count": null,
   "outputs": [],
   "source": [
    "# 재귀는 이렇게\n",
    "def find_max_score(cnt):\n",
    "    # 여기서 cnt는 떨어지는 블럭 중 위치가 정해지지 않은 블럭의 개수\n",
    "    global max_score\n",
    "\n",
    "    # 떨어질 위치들을 전부 결정하게 되면, 직접 시뮬레이션을 통해\n",
    "    # 점수를 계산하고, 그 중 가장 큰 점수를 갱신합니다.\n",
    "    # 이게 하나의 경우의 수\n",
    "    if cnt == len(undicided_indices):\n",
    "        max_score = max(max_score, score())\n",
    "        return\n",
    "\n",
    "    # 4개의 위치 중 어느 위치에 블럭을 떨어뜨릴 것인지를 결정합니다.\n",
    "    for i in range(1, MAX_WIDTH + 1):\n",
    "        k, _ = given_blocks[undicided_indices[cnt]]\n",
    "        given_blocks[undicided_indices[cnt]] = (k, i)\n",
    "        find_max_score(cnt + 1)\n",
    "\n",
    "\n",
    "\n",
    "# 가능한 모든 조합에 대해 점수를 계산해줍니다.\n",
    "find_max_score(0)"
   ],
   "metadata": {
    "collapsed": false,
    "pycharm": {
     "name": "#%%\n"
    }
   }
  },
  {
   "cell_type": "markdown",
   "metadata": {
    "collapsed": true,
    "pycharm": {
     "name": "#%% md\n"
    }
   },
   "source": [
    "# 순열 재귀"
   ]
  },
  {
   "cell_type": "code",
   "execution_count": 6,
   "outputs": [
    {
     "name": "stdout",
     "output_type": "stream",
     "text": [
      "[[1, 2], [1, 3], [1, 4], [2, 1], [2, 3], [2, 4], [3, 1], [3, 2], [3, 4], [4, 1], [4, 2], [4, 3]]\n"
     ]
    }
   ],
   "source": [
    "nums = [1, 2, 3, 4]\n",
    "num_cnt = len(nums)\n",
    "used = [0] * num_cnt\n",
    "permu_list = []\n",
    "PICK_CNT = 2\n",
    "\n",
    "def permutaion_recursive(cnt, permu):\n",
    "    if cnt == PICK_CNT:\n",
    "        permu_list.append(permu[:])\n",
    "    for i in range(num_cnt):\n",
    "        # 처음부터 보기 때문에 사용했는지 확인하는게 포인트!!!\n",
    "        if not used[i]:\n",
    "            used[i] = 1\n",
    "            permu.append(nums[i])\n",
    "            permutaion_recursive(cnt+1, permu)\n",
    "            used[i] = 0\n",
    "            permu.pop()\n",
    "\n",
    "permutaion_recursive(0, [])\n",
    "print(permu_list)"
   ],
   "metadata": {
    "collapsed": false,
    "pycharm": {
     "name": "#%%\n"
    }
   }
  },
  {
   "cell_type": "markdown",
   "source": [
    "# 조합 재귀"
   ],
   "metadata": {
    "collapsed": false
   }
  },
  {
   "cell_type": "code",
   "execution_count": 5,
   "outputs": [
    {
     "name": "stdout",
     "output_type": "stream",
     "text": [
      "[[1, 2], [1, 3], [1, 4], [2, 3], [2, 4], [3, 4]]\n"
     ]
    }
   ],
   "source": [
    "nums = [1, 2, 3, 4]\n",
    "num_cnt = len(nums)\n",
    "combi_list = []\n",
    "PICK_CNT = 2\n",
    "\n",
    "\n",
    "def combination_recursive(now_idx, combi):\n",
    "    if len(combi) == PICK_CNT:\n",
    "        combi_list.append(combi[:])\n",
    "        return\n",
    "    for other_idx in range(now_idx, num_cnt):\n",
    "        # 자기 다음부터 보기 때문에 사용했는지 확인 안함!!!\n",
    "        combi.append(nums[other_idx])\n",
    "        combination_recursive(other_idx+1, combi)\n",
    "        combi.pop()\n",
    "\n",
    "\n",
    "combination_recursive(0, [])\n",
    "print(combi_list)"
   ],
   "metadata": {
    "collapsed": false,
    "pycharm": {
     "name": "#%%\n"
    }
   }
  },
  {
   "cell_type": "markdown",
   "source": [],
   "metadata": {
    "collapsed": false,
    "pycharm": {
     "name": "#%% md\n"
    }
   }
  }
 ],
 "metadata": {
  "kernelspec": {
   "display_name": "Python 3",
   "language": "python",
   "name": "python3"
  },
  "language_info": {
   "codemirror_mode": {
    "name": "ipython",
    "version": 2
   },
   "file_extension": ".py",
   "mimetype": "text/x-python",
   "name": "python",
   "nbconvert_exporter": "python",
   "pygments_lexer": "ipython2",
   "version": "2.7.6"
  }
 },
 "nbformat": 4,
 "nbformat_minor": 0
}